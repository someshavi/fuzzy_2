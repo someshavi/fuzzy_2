{
 "cells": [
  {
   "cell_type": "code",
   "execution_count": 71,
   "id": "0db0c0d8-7a86-471d-9a74-5d4c199467fe",
   "metadata": {
    "tags": []
   },
   "outputs": [],
   "source": [
    "import ranky as rk\n",
    "import numpy as np\n",
    "import matplotlib.pyplot as plt\n",
    "import networkx as nx\n",
    "from ortools.linear_solver import pywraplp"
   ]
  },
  {
   "cell_type": "code",
   "execution_count": 72,
   "id": "4dad480f-d6bb-4a9f-adab-ea0ae58fae83",
   "metadata": {
    "tags": []
   },
   "outputs": [],
   "source": [
    "M = 100\n",
    "NumExpert = 3"
   ]
  },
  {
   "cell_type": "code",
   "execution_count": 73,
   "id": "a0835cbf-be79-4da8-b77d-a694e86983ae",
   "metadata": {
    "tags": []
   },
   "outputs": [],
   "source": [
    "rnd = np.random.RandomState(1)"
   ]
  },
  {
   "cell_type": "code",
   "execution_count": 74,
   "id": "89dfa9ac-779c-472b-b7bf-686712a0e758",
   "metadata": {
    "tags": []
   },
   "outputs": [],
   "source": [
    "matrix = rnd.normal(10, 1, size=(M, 3))"
   ]
  },
  {
   "cell_type": "code",
   "execution_count": null,
   "id": "dc403aaa-5cd3-4b66-a7ef-b6a7dd93356e",
   "metadata": {
    "tags": []
   },
   "outputs": [],
   "source": [
    "# matrix"
   ]
  },
  {
   "cell_type": "code",
   "execution_count": 26,
   "id": "8c4b3ab4-cd6f-40f4-a29b-569b6cd53348",
   "metadata": {
    "tags": []
   },
   "outputs": [
    {
     "name": "stdout",
     "output_type": "stream",
     "text": [
      "Optimization terminated successfully.\n"
     ]
    }
   ],
   "source": [
    "res = rk.center(matrix, method='kendalltau')"
   ]
  },
  {
   "cell_type": "code",
   "execution_count": null,
   "id": "3edf88d4-113a-481e-b9cb-534cf38ff7b8",
   "metadata": {
    "tags": []
   },
   "outputs": [],
   "source": [
    "#array([10.43945238,  8.07012314, 10.47893234,  8.30329057, 10.67053202,\n",
    "#        7.97961162,  8.97634793, 11.39064463,  9.28250048, 10.5212298 ])"
   ]
  },
  {
   "cell_type": "code",
   "execution_count": null,
   "id": "1d9d609c-7f39-4078-824d-ec1d2ad28b74",
   "metadata": {
    "tags": []
   },
   "outputs": [],
   "source": [
    "res"
   ]
  },
  {
   "cell_type": "code",
   "execution_count": null,
   "id": "8898b53f-b7e3-48e7-b26f-7b236ee451ea",
   "metadata": {
    "tags": []
   },
   "outputs": [],
   "source": [
    "r = np.arange(M)"
   ]
  },
  {
   "cell_type": "code",
   "execution_count": null,
   "id": "6aa290b8-c5ff-4525-aa42-b3cbbf3d50c5",
   "metadata": {
    "tags": []
   },
   "outputs": [],
   "source": [
    "np.argsort(res)"
   ]
  },
  {
   "cell_type": "code",
   "execution_count": null,
   "id": "a7f03eac-ea31-4566-b26a-5dc6b5a57fe2",
   "metadata": {
    "tags": []
   },
   "outputs": [],
   "source": [
    "np.argsort(matrix[:,0])"
   ]
  },
  {
   "cell_type": "code",
   "execution_count": null,
   "id": "19e33425-34aa-4392-a36e-27e908fa5f6c",
   "metadata": {
    "tags": []
   },
   "outputs": [],
   "source": [
    "np.argsort(matrix[:,1])"
   ]
  },
  {
   "cell_type": "code",
   "execution_count": null,
   "id": "1e313c06-d262-44ef-8e17-cf7b0c4deb2e",
   "metadata": {
    "tags": []
   },
   "outputs": [],
   "source": [
    "np.argsort(matrix[:,2])"
   ]
  },
  {
   "cell_type": "code",
   "execution_count": 27,
   "id": "9099d0b5-130a-45fa-b7ba-7036d104bc7f",
   "metadata": {
    "tags": []
   },
   "outputs": [],
   "source": [
    "a = np.zeros((NumExpert,M,M))\n",
    "for k in range(NumExpert):\n",
    "    for i in range(M):\n",
    "        for j in range(M):\n",
    "            if matrix[i,k] < matrix[j,k]:\n",
    "                a[k,i,j] = 0\n",
    "            else:\n",
    "                a[k,i,j] = 1"
   ]
  },
  {
   "cell_type": "code",
   "execution_count": 28,
   "id": "026950b2-9283-4841-892e-51e3a402bf3c",
   "metadata": {
    "tags": []
   },
   "outputs": [
    {
     "data": {
      "text/plain": [
       "array([[[1., 1., 0., 1., 1., 1., 1., 1., 1., 1.],\n",
       "        [0., 1., 0., 0., 0., 1., 0., 0., 0., 0.],\n",
       "        [1., 1., 1., 1., 1., 1., 1., 1., 1., 1.],\n",
       "        [0., 1., 0., 1., 1., 1., 0., 0., 0., 1.],\n",
       "        [0., 1., 0., 0., 1., 1., 0., 0., 0., 1.],\n",
       "        [0., 0., 0., 0., 0., 1., 0., 0., 0., 0.],\n",
       "        [0., 1., 0., 1., 1., 1., 1., 0., 0., 1.],\n",
       "        [0., 1., 0., 1., 1., 1., 1., 1., 1., 1.],\n",
       "        [0., 1., 0., 1., 1., 1., 1., 0., 1., 1.],\n",
       "        [0., 1., 0., 0., 0., 1., 0., 0., 0., 1.]],\n",
       "\n",
       "       [[1., 0., 1., 0., 0., 0., 0., 0., 1., 0.],\n",
       "        [1., 1., 1., 0., 1., 1., 1., 0., 1., 1.],\n",
       "        [0., 0., 1., 0., 0., 0., 0., 0., 0., 0.],\n",
       "        [1., 1., 1., 1., 1., 1., 1., 1., 1., 1.],\n",
       "        [1., 0., 1., 0., 1., 0., 0., 0., 1., 0.],\n",
       "        [1., 0., 1., 0., 1., 1., 0., 0., 1., 1.],\n",
       "        [1., 0., 1., 0., 1., 1., 1., 0., 1., 1.],\n",
       "        [1., 1., 1., 0., 1., 1., 1., 1., 1., 1.],\n",
       "        [0., 0., 1., 0., 0., 0., 0., 0., 1., 0.],\n",
       "        [1., 0., 1., 0., 1., 0., 0., 0., 1., 1.]],\n",
       "\n",
       "       [[1., 1., 0., 1., 0., 1., 1., 0., 0., 0.],\n",
       "        [0., 1., 0., 0., 0., 0., 0., 0., 0., 0.],\n",
       "        [1., 1., 1., 1., 0., 1., 1., 0., 1., 0.],\n",
       "        [0., 1., 0., 1., 0., 0., 0., 0., 0., 0.],\n",
       "        [1., 1., 1., 1., 1., 1., 1., 1., 1., 1.],\n",
       "        [0., 1., 0., 1., 0., 1., 1., 0., 0., 0.],\n",
       "        [0., 1., 0., 1., 0., 0., 1., 0., 0., 0.],\n",
       "        [1., 1., 1., 1., 0., 1., 1., 1., 1., 0.],\n",
       "        [1., 1., 0., 1., 0., 1., 1., 0., 1., 0.],\n",
       "        [1., 1., 1., 1., 0., 1., 1., 1., 1., 1.]]])"
      ]
     },
     "execution_count": 28,
     "metadata": {},
     "output_type": "execute_result"
    }
   ],
   "source": [
    "a"
   ]
  },
  {
   "cell_type": "code",
   "execution_count": 75,
   "id": "b28571cf-c36b-4bc0-ad26-2205c15fdfa1",
   "metadata": {
    "tags": []
   },
   "outputs": [
    {
     "data": {
      "text/plain": [
       "array([[0., 1., 2., ..., 1., 2., 1.],\n",
       "       [2., 0., 2., ..., 2., 2., 2.],\n",
       "       [1., 1., 0., ..., 1., 2., 1.],\n",
       "       ...,\n",
       "       [2., 1., 2., ..., 0., 1., 2.],\n",
       "       [1., 1., 1., ..., 2., 0., 2.],\n",
       "       [2., 1., 2., ..., 1., 1., 0.]])"
      ]
     },
     "execution_count": 75,
     "metadata": {},
     "output_type": "execute_result"
    }
   ],
   "source": [
    "w = np.zeros((M,M))\n",
    "for k in range(NumExpert):\n",
    "    for i in range(M):\n",
    "        for j in range(M):\n",
    "            if matrix[j,k] >= matrix[i,k] and i != j:\n",
    "                w[i,j] += 1\n",
    "w"
   ]
  },
  {
   "cell_type": "code",
   "execution_count": null,
   "id": "213e376e-f088-4c86-b394-f54c98c712d2",
   "metadata": {
    "tags": []
   },
   "outputs": [],
   "source": [
    "solver = pywraplp.Solver.CreateSolver('SCIP')\n",
    "if not solver:\n",
    "    print('Error!')"
   ]
  },
  {
   "cell_type": "code",
   "execution_count": null,
   "id": "4097d47e-1326-4860-8263-cc5f37223a42",
   "metadata": {
    "tags": []
   },
   "outputs": [],
   "source": [
    "x = {}\n",
    "for i in range(M):\n",
    "    for j in range(M):\n",
    "        if i != j:\n",
    "            x[(i,j)] = solver.BoolVar(f\"x[{i},{j}]\")"
   ]
  },
  {
   "cell_type": "code",
   "execution_count": null,
   "id": "0b964367-c9e8-46a2-aad9-4f11a177d131",
   "metadata": {
    "tags": []
   },
   "outputs": [],
   "source": [
    "#ym = {}\n",
    "#yp = {}\n",
    "#for k in range(NumExpert):\n",
    "#    for i in range(M):\n",
    "#        for j in range(M):\n",
    "#            if i != j:\n",
    "#                ym[(k,i,j)] = solver.BoolVar(f\"ym[{k},{i},{j}]\")\n",
    "#                yp[(k,i,j)] = solver.BoolVar(f\"yp[{k},{i},{j}]\")\n",
    "#                solver.Add(yp[(k,i,j)] - ym[(k,i,j)] + x[(i,j)] == a[k,i,j])"
   ]
  },
  {
   "cell_type": "code",
   "execution_count": null,
   "id": "d1ef7994-c832-42c5-b1e5-4fbd1c7cb624",
   "metadata": {
    "tags": []
   },
   "outputs": [],
   "source": [
    "for k in range(M):\n",
    "    for i in range(M):\n",
    "        for j in range(M):\n",
    "            if i != j and j != k and i != k:\n",
    "                #solver.Add(x[(i,j)] + x[(j,k)] + x[(k,i)] <= 2)\n",
    "                solver.Add(x[(i,j)] + x[(j,k)] + x[(k,i)] >= 1)"
   ]
  },
  {
   "cell_type": "code",
   "execution_count": null,
   "id": "22dfcc4a-bf01-4da6-b734-d70d4a15b8a0",
   "metadata": {
    "tags": []
   },
   "outputs": [],
   "source": [
    "for i in range(M):\n",
    "    for j in range(M):\n",
    "        if i != j:\n",
    "            solver.Add(x[(i,j)] + x[(j,i)] == 1)"
   ]
  },
  {
   "cell_type": "code",
   "execution_count": null,
   "id": "bac173f1-0bf3-401f-9d51-ad787c0f5e16",
   "metadata": {
    "tags": []
   },
   "outputs": [],
   "source": [
    "print('Number of constraints =', solver.NumConstraints())"
   ]
  },
  {
   "cell_type": "code",
   "execution_count": null,
   "id": "8d733a13-4ca5-40f9-98c6-21b8c4d40544",
   "metadata": {
    "tags": []
   },
   "outputs": [],
   "source": [
    "#solver.Minimize(solver.Sum(yp[(k,i,j)] + ym[(k,i,j)] for k in range(NumExpert) for i in range(M) for j in range(M) if i != j))\n",
    "solver.Minimize(solver.Sum(w[i,j] * x[(i,j)] for i in range(M) for j in range(M) if i != j))"
   ]
  },
  {
   "cell_type": "code",
   "execution_count": null,
   "id": "fd9ceed1-bf4a-4a7e-9826-f68e52871c6d",
   "metadata": {
    "tags": []
   },
   "outputs": [],
   "source": [
    "status = solver.Solve()"
   ]
  },
  {
   "cell_type": "code",
   "execution_count": null,
   "id": "96ba93af-ba75-43a0-8590-4219adb2a2e2",
   "metadata": {
    "tags": []
   },
   "outputs": [],
   "source": [
    "if status == pywraplp.Solver.OPTIMAL:\n",
    "    print('Objective value =', solver.Objective().Value())\n",
    "    #for ij in x:\n",
    "    #    print(x[ij].name(), ' = ', x[ij].solution_value())\n",
    "    print()\n",
    "    print('Problem solved in %f milliseconds' % solver.wall_time())\n",
    "    print('Problem solved in %d iterations' % solver.iterations())\n",
    "    print('Problem solved in %d branch-and-bound nodes' % solver.nodes())\n",
    "else:\n",
    "    print('The problem does not have an optimal solution.')"
   ]
  },
  {
   "cell_type": "code",
   "execution_count": null,
   "id": "d7295439-d149-44c9-a173-8a0f0ad4bad1",
   "metadata": {
    "tags": []
   },
   "outputs": [],
   "source": [
    "mykm = np.array([[ int(x[(i,j)].solution_value()) if i != j else 1 for j in range(M)] for i in range(M)])\n",
    "# mykm"
   ]
  },
  {
   "cell_type": "code",
   "execution_count": 36,
   "id": "ac53f401-5d93-4a46-847b-4f6c1cb03170",
   "metadata": {
    "tags": []
   },
   "outputs": [
    {
     "data": {
      "text/plain": [
       "array([[1, 1, 0, 1, 0, 1, 1, 0, 1, 0],\n",
       "       [0, 1, 0, 0, 0, 1, 0, 0, 0, 0],\n",
       "       [1, 1, 1, 1, 0, 1, 1, 0, 1, 0],\n",
       "       [0, 1, 0, 1, 0, 1, 0, 0, 0, 0],\n",
       "       [1, 1, 1, 1, 1, 1, 1, 0, 1, 1],\n",
       "       [0, 0, 0, 0, 0, 1, 0, 0, 0, 0],\n",
       "       [0, 1, 0, 1, 0, 1, 1, 0, 0, 0],\n",
       "       [1, 1, 1, 1, 1, 1, 1, 1, 1, 1],\n",
       "       [0, 1, 0, 1, 0, 1, 1, 0, 1, 0],\n",
       "       [1, 1, 1, 1, 0, 1, 1, 0, 1, 1]])"
      ]
     },
     "execution_count": 36,
     "metadata": {},
     "output_type": "execute_result"
    }
   ],
   "source": [
    "other_km = np.array([[int(res[i]>=res[j]) for j in range(M)] for i in range(M)]) \n",
    "other_km"
   ]
  },
  {
   "cell_type": "code",
   "execution_count": 42,
   "id": "05495f75-6b3c-4757-91e2-85a30434bbb5",
   "metadata": {
    "tags": []
   },
   "outputs": [
    {
     "data": {
      "text/plain": [
       "0"
      ]
     },
     "execution_count": 42,
     "metadata": {},
     "output_type": "execute_result"
    }
   ],
   "source": [
    "np.sum(np.abs(mykm - other_km))"
   ]
  },
  {
   "cell_type": "code",
   "execution_count": 43,
   "id": "c8eab2d9-7f90-48ee-8d76-b51ac665c4b6",
   "metadata": {
    "tags": []
   },
   "outputs": [
    {
     "data": {
      "text/plain": [
       "88.0"
      ]
     },
     "execution_count": 43,
     "metadata": {},
     "output_type": "execute_result"
    }
   ],
   "source": [
    "np.sum(np.abs(mykm - a[0]))+np.sum(np.abs(mykm - a[1]))+np.sum(np.abs(mykm - a[2]))"
   ]
  },
  {
   "cell_type": "code",
   "execution_count": 44,
   "id": "73ab1f65-f15f-4c3d-8d15-70c0b0503edd",
   "metadata": {
    "tags": []
   },
   "outputs": [
    {
     "data": {
      "text/plain": [
       "88.0"
      ]
     },
     "execution_count": 44,
     "metadata": {},
     "output_type": "execute_result"
    }
   ],
   "source": [
    "np.sum(np.abs(other_km - a[0]))+np.sum(np.abs(other_km - a[1]))+np.sum(np.abs(other_km - a[2]))"
   ]
  },
  {
   "cell_type": "code",
   "execution_count": 32,
   "id": "3666f4be-6603-48f0-9471-5363e60d1231",
   "metadata": {
    "tags": []
   },
   "outputs": [],
   "source": [
    "for i in range(M):\n",
    "    mykm[i,i] = 0"
   ]
  },
  {
   "cell_type": "code",
   "execution_count": 33,
   "id": "e6549a4e-55aa-479e-b9a2-c51c20ad79a1",
   "metadata": {
    "tags": []
   },
   "outputs": [],
   "source": [
    "G = nx.from_numpy_array(mykm, create_using = nx.DiGraph())"
   ]
  },
  {
   "cell_type": "code",
   "execution_count": 34,
   "id": "1c5e3aaf-492b-42b5-9716-d904136cef5d",
   "metadata": {
    "tags": []
   },
   "outputs": [
    {
     "data": {
      "image/png": "[encoded data removed]",
      "text/plain": [
       "<Figure size 640x480 with 1 Axes>"
      ]
     },
     "metadata": {},
     "output_type": "display_data"
    }
   ],
   "source": [
    "sg = G.subgraph([0, 1, 2, 3, 4, 5, 6, 7, 8, 9, 29])\n",
    "pos = nx.nx_agraph.graphviz_layout(sg, prog=\"dot\")\n",
    "nx.draw(sg,with_labels=True, \n",
    "        pos = pos)"
   ]
  },
  {
   "cell_type": "code",
   "execution_count": 35,
   "id": "75b9bf1c-05e2-4e32-bec7-8c7aedd698b6",
   "metadata": {
    "tags": []
   },
   "outputs": [
    {
     "data": {
      "text/plain": [
       "True"
      ]
     },
     "execution_count": 35,
     "metadata": {},
     "output_type": "execute_result"
    }
   ],
   "source": [
    "nx.is_directed_acyclic_graph(G)"
   ]
  },
  {
   "cell_type": "code",
   "execution_count": null,
   "id": "e0e45419-4ed3-442c-aedc-d66e27bf736c",
   "metadata": {
    "tags": []
   },
   "outputs": [],
   "source": [
    "#nx.find_cycle(G)"
   ]
  },
  {
   "cell_type": "code",
   "execution_count": null,
   "id": "8d3aa15c-d47c-44b4-902c-1fc19b5df77a",
   "metadata": {
    "tags": []
   },
   "outputs": [],
   "source": [
    "mykm"
   ]
  },
  {
   "cell_type": "code",
   "execution_count": null,
   "id": "971ab207-b53d-4efe-b785-b7010667240f",
   "metadata": {
    "tags": []
   },
   "outputs": [],
   "source": [
    "for i in range(M):\n",
    "    for j in range(M):\n",
    "        for k in range(M):\n",
    "            if i != j and j != k and i != k:\n",
    "                # print(mykm[i,j] + mykm[j,k] + mykm[k,i]) \n",
    "                pass"
   ]
  },
  {
   "cell_type": "code",
   "execution_count": null,
   "id": "175129dc-f8ae-41a8-b0c5-dacfe7799083",
   "metadata": {
    "tags": []
   },
   "outputs": [],
   "source": [
    "for i in range(M):\n",
    "    other_km[i,i] = 0\n",
    "G = nx.from_numpy_array(other_km, create_using = nx.DiGraph()) \n",
    "nx.is_directed_acyclic_graph(G)"
   ]
  },
  {
   "cell_type": "code",
   "execution_count": null,
   "id": "9f51e89d-383e-46e6-b755-a5d0bdda764b",
   "metadata": {
    "tags": []
   },
   "outputs": [],
   "source": [
    "for i in range(M):\n",
    "    for j in range(M):\n",
    "        for k in range(M):\n",
    "            if i != j and j != k and i != k:\n",
    "                pass # print(other_km[i,j] + other_km[j,k] + other_km[k,i])  "
   ]
  },
  {
   "cell_type": "code",
   "execution_count": 2,
   "id": "e666e1a5-7596-4e63-a9ba-5c769d7097b2",
   "metadata": {},
   "outputs": [],
   "source": [
    "from pyscipopt import Model, quicksum"
   ]
  },
  {
   "cell_type": "code",
   "execution_count": 76,
   "id": "563922b1-55ed-40cb-8f9e-65f2d7572895",
   "metadata": {},
   "outputs": [],
   "source": [
    "model = Model() "
   ]
  },
  {
   "cell_type": "code",
   "execution_count": 77,
   "id": "11de947b-fc0d-493f-9cd2-32bf808ae9f5",
   "metadata": {},
   "outputs": [],
   "source": [
    "x = {}\n",
    "for i in range(M):\n",
    "    for j in range(M):\n",
    "        if i != j:\n",
    "            x[(i,j)] = model.addVar(f\"x[{i},{j}]\", vtype = 'B')"
   ]
  },
  {
   "cell_type": "code",
   "execution_count": 78,
   "id": "b57a0088-c36b-4581-8a3d-f0b063f1061e",
   "metadata": {},
   "outputs": [],
   "source": [
    "for k in range(M):\n",
    "    for i in range(M):\n",
    "        for j in range(M):\n",
    "            if i != j and j != k and i != k:\n",
    "                model.addCons(x[(i,j)] + x[(j,k)] + x[(k,i)] >= 1)"
   ]
  },
  {
   "cell_type": "code",
   "execution_count": 79,
   "id": "f55c5847-13b9-416e-9853-85abfdc4a665",
   "metadata": {},
   "outputs": [],
   "source": [
    "for i in range(M):\n",
    "    for j in range(M):\n",
    "        if i != j:\n",
    "            model.addCons(x[(i,j)] + x[(j,i)] == 1)"
   ]
  },
  {
   "cell_type": "code",
   "execution_count": 80,
   "id": "89357f5f-132f-49b1-a07d-ccf52d59e280",
   "metadata": {},
   "outputs": [
    {
     "name": "stdout",
     "output_type": "stream",
     "text": [
      "presolving:\n",
      "(round 1, fast)       4950 del vars, 9900 del conss, 0 add conss, 0 chg bounds, 0 chg sides, 0 chg coeffs, 0 upgd conss, 0 impls, 0 clqs\n",
      "   (2.3s) running MILP presolver\n",
      "   (3.5s) MILP presolver (2 rounds): 0 aggregations, 0 fixings, 0 bound changes\n",
      "(round 2, medium)     4950 del vars, 980100 del conss, 161700 add conss, 0 chg bounds, 0 chg sides, 0 chg coeffs, 0 upgd conss, 0 impls, 0 clqs\n",
      "   (3.8s) probing: 51/4950 (1.0%) - 0 fixings, 0 aggregations, 0 implications, 0 bound changes\n",
      "   (3.8s) probing aborted: 50/50 successive totally useless probings\n",
      "   Deactivated symmetry handling methods, since SCIP was built without symmetry detector (SYM=none).\n",
      "presolving (3 rounds: 3 fast, 2 medium, 1 exhaustive):\n",
      " 4950 deleted vars, 980100 deleted constraints, 161700 added constraints, 0 tightened bounds, 0 added holes, 0 changed sides, 0 changed coefficients\n",
      " 0 implications, 0 cliques\n",
      "presolved problem has 4950 variables (4950 bin, 0 int, 0 impl, 0 cont) and 161700 constraints\n",
      " 161700 constraints of type <linear>\n",
      "transformed objective value is always integral (scale: 1)\n",
      "Presolving Time: 3.32\n",
      "\n",
      " time | node  | left  |LP iter|LP it/n|mem/heur|mdpt |vars |cons |rows |cuts |sepa|confs|strbr|  dualbound   | primalbound  |  gap   | compl. \n",
      "t 3.9s|     1 |     0 |     0 |     - | trivial|   0 |4950 | 161k|   0 |   0 |  0 |   0 |   0 | 3.842000e+03 | 7.493000e+03 |  95.03%| unknown\n",
      "t 3.9s|     1 |     0 |     0 |     - | trivial|   0 |4950 | 161k|   0 |   0 |  0 |   0 |   0 | 3.842000e+03 | 7.357000e+03 |  91.49%| unknown\n",
      "p 4.1s|     1 |     0 |     0 |     - |   locks|   0 |4950 | 161k| 161k|   0 |  0 |   0 |   0 | 3.842000e+03 | 6.262000e+03 |  62.99%| unknown\n",
      "i 4.2s|     1 |     0 |     0 |     - |  oneopt|   0 |4950 | 161k| 161k|   0 |  0 |   0 |   0 | 3.842000e+03 | 5.564000e+03 |  44.82%| unknown\n",
      "  134s|     1 |     0 | 46242 |     - |  1457M |   0 |4950 | 161k| 161k|   0 |  0 |   0 |   0 | 4.427244e+03 | 5.564000e+03 |  25.68%| unknown\n",
      "r 134s|     1 |     0 | 46242 |     - |shifting|   0 |4950 | 161k| 161k|   0 |  0 |   1 |   0 | 4.427244e+03 | 4.557000e+03 |   2.93%| unknown\n",
      "i 134s|     1 |     0 | 46242 |     - |  oneopt|   0 |4950 | 161k| 161k|   0 |  0 |   1 |   0 | 4.427244e+03 | 4.504000e+03 |   1.73%| unknown\n",
      "  136s|     1 |     0 | 48118 |     - |  1495M |   0 |4950 | 161k| 161k|   1 |  1 |   1 |   0 | 4.427283e+03 | 4.504000e+03 |   1.73%| unknown\n",
      "  140s|     1 |     0 | 50900 |     - |  1519M |   0 |4950 | 161k| 161k|   3 |  2 |   1 |   0 | 4.427380e+03 | 4.504000e+03 |   1.73%| unknown\n",
      "  149s|     1 |     0 | 57879 |     - |  1544M |   0 |4950 | 161k| 161k|   6 |  3 |   1 |   0 | 4.427509e+03 | 4.504000e+03 |   1.73%| unknown\n",
      "  173s|     1 |     0 | 58712 |     - |  1559M |   0 |4950 | 161k| 161k|   8 |  4 |   1 |   0 | 4.427522e+03 | 4.504000e+03 |   1.73%| unknown\n",
      "  176s|     1 |     0 | 61107 |     - |  1585M |   0 |4950 | 161k| 161k|  10 |  5 |   1 |   0 | 4.427584e+03 | 4.504000e+03 |   1.73%| unknown\n",
      "  197s|     1 |     0 | 61166 |     - |  1601M |   0 |4950 | 161k| 161k|  12 |  6 |   1 |   0 | 4.427584e+03 | 4.504000e+03 |   1.73%| unknown\n",
      "  217s|     1 |     0 | 61300 |     - |  1619M |   0 |4950 | 161k| 161k|  14 |  7 |   1 |   0 | 4.427585e+03 | 4.504000e+03 |   1.73%| unknown\n",
      "  239s|     1 |     0 | 61934 |     - |  1636M |   0 |4950 | 161k| 161k|  15 |  8 |   1 |   0 | 4.427589e+03 | 4.504000e+03 |   1.73%| unknown\n",
      " time | node  | left  |LP iter|LP it/n|mem/heur|mdpt |vars |cons |rows |cuts |sepa|confs|strbr|  dualbound   | primalbound  |  gap   | compl. \n",
      "  261s|     1 |     0 | 62504 |     - |  1652M |   0 |4950 | 161k| 161k|  16 |  9 |   1 |   0 | 4.427597e+03 | 4.504000e+03 |   1.73%| unknown\n",
      "  283s|     1 |     0 | 63164 |     - |  1670M |   0 |4950 | 161k| 161k|  18 | 10 |   1 |   0 | 4.427602e+03 | 4.504000e+03 |   1.73%| unknown\n",
      "  284s|     1 |     0 | 63590 |     - |  1687M |   0 |4950 | 161k| 161k|  19 | 11 |   1 |   0 | 4.427607e+03 | 4.504000e+03 |   1.73%| unknown\n",
      "d 291s|     1 |     0 | 68146 |     - |farkasdi|   0 |4950 | 161k| 161k|   0 | 11 |   1 |   0 | 4.427607e+03 | 4.429000e+03 |   0.03%| unknown\n",
      "(run 1, node 1) restarting after 3112 global fixings of integer variables\n",
      "\n",
      "(restart) converted 19 cuts from the global cut pool into linear constraints\n",
      "\n",
      "presolving:\n",
      "(round 1, fast)       3253 del vars, 123243 del conss, 0 add conss, 140 chg bounds, 22940 chg sides, 0 chg coeffs, 0 upgd conss, 0 impls, 21055 clqs\n",
      "(round 2, fast)       3254 del vars, 125257 del conss, 0 add conss, 140 chg bounds, 23280 chg sides, 0 chg coeffs, 0 upgd conss, 0 impls, 21395 clqs\n",
      "   (335.3s) running MILP presolver\n",
      "   (335.4s) MILP presolver found nothing\n",
      "(round 3, exhaustive) 3255 del vars, 125325 del conss, 0 add conss, 140 chg bounds, 23290 chg sides, 0 chg coeffs, 0 upgd conss, 0 impls, 21337 clqs\n",
      "(round 4, exhaustive) 3255 del vars, 125325 del conss, 0 add conss, 140 chg bounds, 23290 chg sides, 0 chg coeffs, 21292 upgd conss, 0 impls, 21337 clqs\n",
      "presolving (5 rounds: 5 fast, 3 medium, 3 exhaustive):\n",
      " 3255 deleted vars, 125325 deleted constraints, 0 added constraints, 140 tightened bounds, 0 added holes, 23290 changed sides, 0 changed coefficients\n",
      " 0 implications, 21337 cliques\n",
      "presolved problem has 1696 variables (1696 bin, 0 int, 0 impl, 0 cont) and 36396 constraints\n",
      "     18 constraints of type <knapsack>\n",
      "  21274 constraints of type <setppc>\n",
      "  15103 constraints of type <linear>\n",
      "      1 constraints of type <logicor>\n",
      "transformed objective value is always integral (scale: 1)\n",
      "Presolving Time: 3.85\n",
      "transformed 3/8 original solutions to the transformed problem space\n",
      "\n",
      " time | node  | left  |LP iter|LP it/n|mem/heur|mdpt |vars |cons |rows |cuts |sepa|confs|strbr|  dualbound   | primalbound  |  gap   | compl. \n",
      "  354s|     1 |     0 |108344 |     - |  1618M |   0 |1696 |  36k|  36k|   0 |  0 |3140 |   0 | 4.427607e+03 | 4.429000e+03 |   0.03%| unknown\n",
      "  354s|     1 |     0 |108344 |     - |  1618M |   0 |1696 |  36k|  30k|   0 |  0 |3140 |   0 | 4.427607e+03 | 4.429000e+03 |   0.03%| unknown\n",
      "  355s|     1 |     0 |109206 |     - |  1621M |   0 |1696 |  30k|  29k|   2 |  1 |3140 |   0 | 4.427630e+03 | 4.429000e+03 |   0.03%| unknown\n",
      "  355s|     1 |     0 |109206 |     - |  1621M |   0 |1696 |  30k|  29k|   2 |  1 |3140 |   0 | 4.427630e+03 | 4.429000e+03 |   0.03%| unknown\n",
      "  357s|     1 |     0 |109661 |     - |  1624M |   0 |1696 |  30k|  29k|   3 |  2 |3140 |   0 | 4.427637e+03 | 4.429000e+03 |   0.03%| unknown\n",
      "  357s|     1 |     0 |109661 |     - |  1624M |   0 |1696 |  30k|  29k|   3 |  2 |3140 |   0 | 4.427637e+03 | 4.429000e+03 |   0.03%| unknown\n",
      "pressed CTRL-C 1 times (5 times for forcing termination)\n",
      "\n",
      "SCIP Status        : solving was interrupted [user interrupt]\n",
      "Solving Time (sec) : 358.36\n",
      "Solving Nodes      : 1 (total of 2 nodes in 2 runs)\n",
      "Primal Bound       : +4.42900000000000e+03 (8 solutions)\n",
      "Dual Bound         : +4.42763659811843e+03\n",
      "Gap                : 0.03 %\n"
     ]
    }
   ],
   "source": [
    "model.setObjective(quicksum(w[i,j] * x[(i,j)] for i in range(M) for j in range(M) if i != j), \"minimize\")\n",
    "model.optimize()\n",
    "sol = model.getBestSol()"
   ]
  },
  {
   "cell_type": "code",
   "execution_count": 82,
   "id": "7ec6520a-0d4d-4ba3-8c43-2b537dda33cf",
   "metadata": {
    "tags": []
   },
   "outputs": [
    {
     "data": {
      "text/plain": [
       "4429.0"
      ]
     },
     "execution_count": 82,
     "metadata": {},
     "output_type": "execute_result"
    }
   ],
   "source": [
    "model.getObjVal()"
   ]
  },
  {
   "cell_type": "code",
   "execution_count": 81,
   "id": "bec05f14-ba51-4954-933a-17a83dc906e1",
   "metadata": {
    "tags": []
   },
   "outputs": [
    {
     "data": {
      "text/plain": [
       "1.0"
      ]
     },
     "execution_count": 81,
     "metadata": {},
     "output_type": "execute_result"
    }
   ],
   "source": [
    "sol[x[(0,1)]]"
   ]
  },
  {
   "cell_type": "code",
   "execution_count": 69,
   "id": "3d624f22-65c4-4c50-ab4a-bae97ae7f1eb",
   "metadata": {
    "tags": []
   },
   "outputs": [],
   "source": [
    "mykm = np.array([[ int(sol[x[(i,j)]]) if i != j else 1 for j in range(M)] for i in range(M)])\n"
   ]
  },
  {
   "cell_type": "code",
   "execution_count": 70,
   "id": "c39cb7e2-9059-4de5-9a3e-b034d5bd2bfd",
   "metadata": {
    "tags": []
   },
   "outputs": [
    {
     "data": {
      "text/plain": [
       "array([[1, 1, 0, ..., 0, 1, 1],\n",
       "       [0, 1, 0, ..., 0, 1, 0],\n",
       "       [1, 1, 1, ..., 0, 1, 1],\n",
       "       ...,\n",
       "       [1, 1, 1, ..., 1, 1, 1],\n",
       "       [0, 0, 0, ..., 0, 1, 0],\n",
       "       [0, 1, 0, ..., 0, 1, 1]])"
      ]
     },
     "execution_count": 70,
     "metadata": {},
     "output_type": "execute_result"
    }
   ],
   "source": [
    "mykm"
   ]
  },
  {
   "cell_type": "code",
   "execution_count": null,
   "id": "781ac00e-5b15-4c58-a7d5-4717c899b78b",
   "metadata": {},
   "outputs": [],
   "source": []
  }
 ],
 "metadata": {
  "kernelspec": {
   "display_name": "Python 3 (ipykernel)",
   "language": "python",
   "name": "python3"
  },
  "language_info": {
   "codemirror_mode": {
    "name": "ipython",
    "version": 3
   },
   "file_extension": ".py",
   "mimetype": "text/x-python",
   "name": "python",
   "nbconvert_exporter": "python",
   "pygments_lexer": "ipython3",
   "version": "3.9.13"
  }
 },
 "nbformat": 4,
 "nbformat_minor": 5
}
